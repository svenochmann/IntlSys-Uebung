{
 "cells": [
  {
   "cell_type": "markdown",
   "id": "c007fb9a",
   "metadata": {},
   "source": [
    "# Übung 3: Eine SVM trainieren"
   ]
  },
  {
   "cell_type": "markdown",
   "id": "4f8bcf51",
   "metadata": {},
   "source": [
    "In dieser Übung soll eine [SVM](https://scikit-learn.org/stable/modules/svm.html) trainiert werden. Damit können Klassifikatoren gelernt werden.\n",
    "\n",
    "Verwenden Sie für das Training die Daten des Kürbissaat Datensatzes (Vgl. Übung 2). Eine Idee zur Verwendung der SVM finden Sie in Übung 1. \n"
   ]
  },
  {
   "cell_type": "code",
   "execution_count": 1,
   "id": "143ec557",
   "metadata": {},
   "outputs": [],
   "source": [
    "# Hier bitte alle notwendigen Imports. \n",
    "# Guter Stil ist es, alle Imports vor dem auszuführenden Programmcode zu platzieren\n",
    "import pandas as pd\n"
   ]
  },
  {
   "cell_type": "markdown",
   "id": "1fca69e1",
   "metadata": {},
   "source": [
    "## Aufgabe 1: Laden Sie die Kürbissaatdaten in einen Pandas Dataframe"
   ]
  },
  {
   "cell_type": "code",
   "execution_count": null,
   "id": "01aeddb7",
   "metadata": {},
   "outputs": [],
   "source": [
    "# Lösung hier\n",
    "pumpkin_seed = pd.read_excel('C:\\\\Users\\\\Sven\\\\Datasets\\\\Pumpkin_Seeds_Dataset.xlsx',\n",
    "    sheet_name='Pumpkin_Seeds_Dataset')"
   ]
  },
  {
   "cell_type": "markdown",
   "id": "54e7813a",
   "metadata": {},
   "source": [
    "## Aufgabe 2: Abtrennen der Zielgröße\n",
    "Die geladnenen Daten enthalten alle Informationen in einem Dataframe. Ziel ist es die zwei Sorten bestmöglich voneinander unterscheiden zu können. Beim Training überwachter Lernverfahren ([supervised learning](https://en.wikipedia.org/wiki/Supervised_learning)) wird daher immer zwischen der Zielgröße (in unserem Fall die Klasse der Sorte) und den Daten, aus denen diese Information gelernt werden soll unterschieden.\n",
    "\n",
    "Trennen Sie die Zielgröße vom Rest der Daten ab. Speichern Sie die Zielgröße in einer Variablen ```y``` und die Restlichen Daten in ```X```."
   ]
  },
  {
   "cell_type": "code",
   "execution_count": null,
   "id": "f2a15ba8",
   "metadata": {},
   "outputs": [],
   "source": [
    "# Lösung hier\n"
   ]
  },
  {
   "cell_type": "markdown",
   "id": "c54ece3b",
   "metadata": {},
   "source": [
    "## Aufgabe 3: Aufteilen der Daten in Trainings- und Testdaten\n",
    "Um Überanpassung [overfitting](https://en.wikipedia.org/wiki/Overfitting) zu vermeiden ist es bei überwachten Lernverfahren grundsätzlich empfehlenswert die Daten aufzuteilen. Zum einen in einen _Trainings_-Datensatz, der verwednet wird um ein Modell zu erlernen (model fit) und zum anderen in einen _Test_-Datensatz der **ausschließlich** zum messen der Performance (hier: wie gut können die zwei Sorten voneinander unterschieden werden) verwendet wird.\n",
    "\n",
    "Teilen Sie den Datensatz zunächst in 50% Trainingsdaten und 50% Testdaten auf. Verwenden Sie dazu z.B. die Variablenbezeichnungen ```X_train```, ```X_test```, ```y_train``` und ```y_test```."
   ]
  },
  {
   "cell_type": "code",
   "execution_count": null,
   "id": "02360127",
   "metadata": {},
   "outputs": [],
   "source": [
    "# Lösung hier\n"
   ]
  },
  {
   "cell_type": "markdown",
   "id": "481ca34b",
   "metadata": {},
   "source": [
    "## Aufgabe 4: Trainieren Sie eine SVM\n",
    "Trainieren Sie eine SVM (orientieren Sie sich dafür z.B. an dem Beispiel aus Übung 1). Erzeugen Sie aus den Testdaten Vorhersagen des Modells für die Klasse (predict). "
   ]
  },
  {
   "cell_type": "code",
   "execution_count": null,
   "id": "939ac716",
   "metadata": {},
   "outputs": [],
   "source": [
    "# Lösung hier\n"
   ]
  },
  {
   "cell_type": "markdown",
   "id": "ae94802c",
   "metadata": {},
   "source": [
    "## Aufgabe 5: Messen Sie die Performance\n",
    "Messen Sie, wie gut Ihr Modell funktioniert. Z.B. über die Anzahl der richtigen Vorhersagen im Verhältnis zur Gesamtzahl der Beispiele in Prozent. \n",
    "\n",
    "Welche Ergebnisse können Sie erzielen? Vergleichen Sie Ihre Ergebnisse mit den Ergebnissen aus dem Paper. Sind diese Vergleichbar?"
   ]
  },
  {
   "cell_type": "code",
   "execution_count": null,
   "id": "00b56753",
   "metadata": {},
   "outputs": [],
   "source": [
    "# Lösung hier\n"
   ]
  }
 ],
 "metadata": {
  "kernelspec": {
   "display_name": "Python 3.9.12 ('base')",
   "language": "python",
   "name": "python3"
  },
  "language_info": {
   "codemirror_mode": {
    "name": "ipython",
    "version": 3
   },
   "file_extension": ".py",
   "mimetype": "text/x-python",
   "name": "python",
   "nbconvert_exporter": "python",
   "pygments_lexer": "ipython3",
   "version": "3.9.12"
  },
  "varInspector": {
   "cols": {
    "lenName": 16,
    "lenType": 16,
    "lenVar": 40
   },
   "kernels_config": {
    "python": {
     "delete_cmd_postfix": "",
     "delete_cmd_prefix": "del ",
     "library": "var_list.py",
     "varRefreshCmd": "print(var_dic_list())"
    },
    "r": {
     "delete_cmd_postfix": ") ",
     "delete_cmd_prefix": "rm(",
     "library": "var_list.r",
     "varRefreshCmd": "cat(var_dic_list()) "
    }
   },
   "position": {
    "height": "476.317px",
    "left": "1075px",
    "right": "20px",
    "top": "111px",
    "width": "365.933px"
   },
   "types_to_exclude": [
    "module",
    "function",
    "builtin_function_or_method",
    "instance",
    "_Feature"
   ],
   "window_display": false
  },
  "vscode": {
   "interpreter": {
    "hash": "f0d01e5b343b2764067fd17949b93628c4300489d96da9da7c3ab500a7dc9879"
   }
  }
 },
 "nbformat": 4,
 "nbformat_minor": 5
}
