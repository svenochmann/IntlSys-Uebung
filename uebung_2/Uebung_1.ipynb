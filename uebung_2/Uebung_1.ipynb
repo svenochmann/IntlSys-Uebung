{
 "cells": [
  {
   "cell_type": "markdown",
   "id": "f282ddaa",
   "metadata": {},
   "source": [
    "# Übung 1: Einfache Beispiele von [scikit-learn](https://scikit-learn.org/stable/)\n",
    "Mit dieser ersten Übung wollen wir Ihnen zeigen, wie man am besten vorgeht um Beispiele von scikit-learn auszuführen und zu verstehen. \n",
    "\n",
    "z.B. dieses: <https://scikit-learn.org/stable/auto_examples/classification/plot_digits_classification.html>\n"
   ]
  },
  {
   "cell_type": "markdown",
   "id": "3f043a05",
   "metadata": {},
   "source": [
    "Laden Sie das Klassifikationsbeispiel auf der oben verlikten Seite als Jupyter Notebook herunter (Button ganz unten auf der Seite). Laden Sie das Beispiel in Ihren Arbeitsbereich auf unseren Jupyter Hub Server ([https://c.mv.hs-duesseldorf.de/tljh](https://c.mv.hs-duesseldorf.de/tljh)).\n",
    "Versuchen Sie das Beispiel zu verstehen."
   ]
  },
  {
   "cell_type": "code",
   "execution_count": null,
   "id": "81a3f0d4",
   "metadata": {},
   "outputs": [],
   "source": []
  }
 ],
 "metadata": {
  "kernelspec": {
   "display_name": "Python 3 (ipykernel)",
   "language": "python",
   "name": "python3"
  },
  "language_info": {
   "codemirror_mode": {
    "name": "ipython",
    "version": 3
   },
   "file_extension": ".py",
   "mimetype": "text/x-python",
   "name": "python",
   "nbconvert_exporter": "python",
   "pygments_lexer": "ipython3",
   "version": "3.9.7"
  },
  "varInspector": {
   "cols": {
    "lenName": 16,
    "lenType": 16,
    "lenVar": 40
   },
   "kernels_config": {
    "python": {
     "delete_cmd_postfix": "",
     "delete_cmd_prefix": "del ",
     "library": "var_list.py",
     "varRefreshCmd": "print(var_dic_list())"
    },
    "r": {
     "delete_cmd_postfix": ") ",
     "delete_cmd_prefix": "rm(",
     "library": "var_list.r",
     "varRefreshCmd": "cat(var_dic_list()) "
    }
   },
   "position": {
    "height": "307.865px",
    "left": "1148.89px",
    "right": "20px",
    "top": "120px",
    "width": "350px"
   },
   "types_to_exclude": [
    "module",
    "function",
    "builtin_function_or_method",
    "instance",
    "_Feature"
   ],
   "window_display": false
  }
 },
 "nbformat": 4,
 "nbformat_minor": 5
}
